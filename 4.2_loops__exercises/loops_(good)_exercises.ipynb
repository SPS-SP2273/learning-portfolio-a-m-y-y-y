{
 "cells": [
  {
   "attachments": {},
   "cell_type": "markdown",
   "id": "123456",
   "metadata": {},
   "source": [
    "<div style=\"text-align:left;font-size:2em\"><span style=\"font-weight:bolder;font-size:1.25em\">SP2273 | Learning Portfolio</span><br><br><span style=\"font-weight:bold;color:darkred\">Loops (Good) Exercises</span></div>"
   ]
  },
  {
   "cell_type": "markdown",
   "id": "a21db5a9",
   "metadata": {},
   "source": [
    "## Exercise 1 (Make me an odd list)"
   ]
  },
  {
   "cell_type": "code",
   "execution_count": 1,
   "id": "7fed793a",
   "metadata": {},
   "outputs": [
    {
     "data": {
      "text/plain": [
       "[1, 9, 25, 49, 81]"
      ]
     },
     "execution_count": 1,
     "metadata": {},
     "output_type": "execute_result"
    }
   ],
   "source": [
    "[i**2 for i in range(10) if i%2!=0]"
   ]
  },
  {
   "cell_type": "markdown",
   "id": "e26e0d6b",
   "metadata": {},
   "source": [
    "## Exercise 2 (Make me another odd list)"
   ]
  },
  {
   "cell_type": "code",
   "execution_count": 2,
   "id": "19e3b5fe",
   "metadata": {},
   "outputs": [
    {
     "name": "stdout",
     "output_type": "stream",
     "text": [
      "[1, 9, 25, 49, 81]\n"
     ]
    }
   ],
   "source": [
    "odd_list = []\n",
    "for i in range(10):\n",
    "    if i%2==0:\n",
    "        continue\n",
    "    else:\n",
    "        odd_list += [i**2]\n",
    "print(odd_list)"
   ]
  },
  {
   "cell_type": "markdown",
   "id": "25cf7b2c",
   "metadata": {},
   "source": [
    "## Exercise 3 (Time me!)"
   ]
  },
  {
   "cell_type": "code",
   "execution_count": null,
   "id": "200c5879",
   "metadata": {},
   "outputs": [
    {
     "name": "stdout",
     "output_type": "stream",
     "text": [
      "677 ns ± 5.78 ns per loop (mean ± std. dev. of 7 runs, 1,000,000 loops each)\n"
     ]
    }
   ],
   "source": [
    "%timeit [i**2 for i in range(10) if i%2!=0]"
   ]
  },
  {
   "cell_type": "code",
   "execution_count": 8,
   "id": "a78dfb97",
   "metadata": {},
   "outputs": [
    {
     "name": "stdout",
     "output_type": "stream",
     "text": [
      "932 ns ± 1.37 ns per loop (mean ± std. dev. of 7 runs, 1,000,000 loops each)\n"
     ]
    }
   ],
   "source": [
    "%%timeit\n",
    "odd_list = []\n",
    "for i in range(10):\n",
    "    if i%2==0:\n",
    "        continue\n",
    "    else:   \n",
    "        odd_list += [i**2]"
   ]
  },
  {
   "cell_type": "markdown",
   "id": "de0e0ab0",
   "metadata": {},
   "source": [
    "The list made by list comprehension is faster than the one made using for loop.\n",
    "<br><br>\n",
    "Optional: Can you suggest a reason why one method of creating a list is faster than the other?\n",
    "<br>\n",
    "List comprehensions are implemented more efficiently in C, reduce Python-level overhead, and avoid repeated method calls. (I had to search this up...)"
   ]
  },
  {
   "cell_type": "markdown",
   "id": "c9b98b63",
   "metadata": {},
   "source": [
    "## Exercise 4 (A problem of decay)"
   ]
  },
  {
   "cell_type": "code",
   "execution_count": 10,
   "id": "ac3ce871",
   "metadata": {},
   "outputs": [
    {
     "name": "stdout",
     "output_type": "stream",
     "text": [
      "The sample will take 14 years to reduce to half its original amount.\n"
     ]
    }
   ],
   "source": [
    "quantity = 100\n",
    "t = 0\n",
    "while quantity>50:\n",
    "    quantity*=0.95\n",
    "    t+=1\n",
    "print(f\"The sample will take {t} years to reduce to half its original amount.\")"
   ]
  },
  {
   "cell_type": "markdown",
   "id": "29993110",
   "metadata": {},
   "source": [
    "## Exercise 5 (Changes in CO<sub>2</sub>)"
   ]
  },
  {
   "cell_type": "code",
   "execution_count": 30,
   "id": "15f4bb9c",
   "metadata": {},
   "outputs": [
    {
     "name": "stdout",
     "output_type": "stream",
     "text": [
      "[(2016, 404.24)]\n"
     ]
    }
   ],
   "source": [
    "co2_data = [\n",
    "    (2000, 369.55), (2001, 371.14), (2002, 373.28), \n",
    "    (2003, 375.80), (2004, 377.52), (2005, 379.80), \n",
    "    (2006, 381.90), (2007, 383.79), (2008, 385.60), \n",
    "    (2009, 387.43), (2010, 389.90), (2011, 391.65), \n",
    "    (2012, 393.85), (2013, 396.52), (2014, 398.65),\n",
    "    (2015, 400.83), (2016, 404.24), (2017, 406.55), \n",
    "    (2018, 408.52), (2019, 411.44), (2020, 414.24)\n",
    "]\n",
    "\n",
    "year, co2_level = zip(*co2_data)\n",
    "co2_level = list(co2_level)\n",
    "result = []\n",
    "\n",
    "for i in range(len(co2_level)-1):\n",
    "    if i==len(co2_level)+1:\n",
    "        break\n",
    "    diff = co2_level[i+1] - co2_level[i]\n",
    "    if diff > 3:\n",
    "        result.append(co2_data[i+1])\n",
    "\n",
    "print(result)"
   ]
  }
 ],
 "metadata": {
  "kernelspec": {
   "display_name": "base",
   "language": "python",
   "name": "python3"
  },
  "language_info": {
   "codemirror_mode": {
    "name": "ipython",
    "version": 3
   },
   "file_extension": ".py",
   "mimetype": "text/x-python",
   "name": "python",
   "nbconvert_exporter": "python",
   "pygments_lexer": "ipython3",
   "version": "3.13.5"
  },
  "toc": {
   "base_numbering": 1,
   "nav_menu": {},
   "number_sections": true,
   "sideBar": true,
   "skip_h1_title": false,
   "title_cell": "Table of Contents",
   "title_sidebar": "Contents",
   "toc_cell": false,
   "toc_position": {},
   "toc_section_display": true,
   "toc_window_display": false
  }
 },
 "nbformat": 4,
 "nbformat_minor": 5
}
