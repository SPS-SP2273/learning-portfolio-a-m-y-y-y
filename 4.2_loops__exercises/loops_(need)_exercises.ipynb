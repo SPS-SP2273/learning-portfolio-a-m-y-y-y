{
 "cells": [
  {
   "attachments": {},
   "cell_type": "markdown",
   "id": "123456",
   "metadata": {},
   "source": [
    "<div style=\"text-align:left;font-size:2em\"><span style=\"font-weight:bolder;font-size:1.25em\">SP2273 | Learning Portfolio</span><br><br><span style=\"font-weight:bold;color:darkred\">Loops (Need) Exercises</span></div>"
   ]
  },
  {
   "cell_type": "markdown",
   "id": "b9b4d80c",
   "metadata": {},
   "source": [
    "## Exercise 1 (Celsius to Fahrenheit)"
   ]
  },
  {
   "cell_type": "code",
   "execution_count": 25,
   "id": "e202c77a",
   "metadata": {},
   "outputs": [
    {
     "name": "stdout",
     "output_type": "stream",
     "text": [
      "0°C = 32.0°F\n",
      "5°C = 41.0°F\n",
      "10°C = 50.0°F\n",
      "15°C = 59.0°F\n",
      "20°C = 68.0°F\n",
      "25°C = 77.0°F\n",
      "30°C = 86.0°F\n",
      "35°C = 95.0°F\n",
      "40°C = 104.0°F\n",
      "45°C = 113.0°F\n",
      "50°C = 122.0°F\n"
     ]
    }
   ],
   "source": [
    "temperatures_celsius = [\n",
    "    0, 5, 10, 15, 20, 25,\n",
    "    30, 35, 40, 45, 50\n",
    "]\n",
    "for temp_c in temperatures_celsius:\n",
    "    temp_f = 9/5*temp_c+32\n",
    "    print(f\"{temp_c}°C = {temp_f}°F\")"
   ]
  },
  {
   "cell_type": "markdown",
   "id": "2a5266a5",
   "metadata": {},
   "source": [
    "## Exercise 2 (Multiplication table)"
   ]
  },
  {
   "cell_type": "code",
   "execution_count": 16,
   "id": "d594456d",
   "metadata": {},
   "outputs": [
    {
     "name": "stdout",
     "output_type": "stream",
     "text": [
      "1 : 1   2   3   4   5   \n",
      "2 : 2   4   6   8   10  \n",
      "3 : 3   6   9   12  15  \n",
      "4 : 4   8   12  16  20  \n",
      "5 : 5   10  15  20  25  \n"
     ]
    }
   ],
   "source": [
    "for n in [1,2,3,4,5]:\n",
    "    print(f\"{n} :\", end = \" \")\n",
    "    for m in [1,2,3,4,5]:\n",
    "        print(f\"{m*n:<3}\", end=\" \")\n",
    "    print()"
   ]
  },
  {
   "cell_type": "code",
   "execution_count": 17,
   "id": "9deff804",
   "metadata": {},
   "outputs": [
    {
     "name": "stdout",
     "output_type": "stream",
     "text": [
      "1 : 1   2   3   4   5  \n",
      "2 : 2   4   6   8   10 \n",
      "3 : 3   6   9   12  15 \n",
      "4 : 4   8   12  16  20 \n",
      "5 : 5   10  15  20  25 \n"
     ]
    }
   ],
   "source": [
    "# optional: Can you think of two ways you could optimise this code?\n",
    "# HINT 1: What variables are being repeated?\n",
    "# HINT 2: f-strings can be used to combine multiple values into a single print statement...\n",
    "for n in range(1,6):\n",
    "    row = \" \".join(f\"{n*m:<3}\" for m in range(1,6))\n",
    "    print(f\"{n} : {row}\")"
   ]
  },
  {
   "cell_type": "markdown",
   "id": "e1f8711b",
   "metadata": {},
   "source": [
    "## Exercise 3 (Simulating a Coin Flip Experiment)"
   ]
  },
  {
   "cell_type": "code",
   "execution_count": 6,
   "id": "ff018680",
   "metadata": {},
   "outputs": [
    {
     "name": "stdout",
     "output_type": "stream",
     "text": [
      "Experiment 0: No. of heads = 5\n",
      "Experiment 1: No. of heads = 10\n",
      "Experiment 2: No. of heads = 6\n",
      "Experiment 3: No. of heads = 5\n",
      "Experiment 4: No. of heads = 7\n",
      "Experiment 5: No. of heads = 4\n",
      "Experiment 6: No. of heads = 4\n",
      "Experiment 7: No. of heads = 6\n",
      "Experiment 8: No. of heads = 4\n",
      "Experiment 9: No. of heads = 7\n"
     ]
    }
   ],
   "source": [
    "import numpy as np\n",
    "for i in range(10):\n",
    "    result = np.random.rand(10)\n",
    "    heads = np.sum(result>0.5)\n",
    "    print(f\"Experiment {i}: No. of heads = {heads}\")"
   ]
  }
 ],
 "metadata": {
  "kernelspec": {
   "display_name": "base",
   "language": "python",
   "name": "python3"
  },
  "language_info": {
   "codemirror_mode": {
    "name": "ipython",
    "version": 3
   },
   "file_extension": ".py",
   "mimetype": "text/x-python",
   "name": "python",
   "nbconvert_exporter": "python",
   "pygments_lexer": "ipython3",
   "version": "3.13.5"
  },
  "toc": {
   "base_numbering": 1,
   "nav_menu": {},
   "number_sections": true,
   "sideBar": true,
   "skip_h1_title": false,
   "title_cell": "Table of Contents",
   "title_sidebar": "Contents",
   "toc_cell": false,
   "toc_position": {},
   "toc_section_display": true,
   "toc_window_display": false
  }
 },
 "nbformat": 4,
 "nbformat_minor": 5
}
