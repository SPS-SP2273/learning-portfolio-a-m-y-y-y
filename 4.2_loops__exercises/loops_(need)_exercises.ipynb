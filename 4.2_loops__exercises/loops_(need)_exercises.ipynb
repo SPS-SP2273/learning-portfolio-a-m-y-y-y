{
 "cells": [
  {
   "attachments": {},
   "cell_type": "markdown",
   "id": "123456",
   "metadata": {},
   "source": [
    "<div style=\"text-align:left;font-size:2em\"><span style=\"font-weight:bolder;font-size:1.25em\">SP2273 | Learning Portfolio</span><br><br><span style=\"font-weight:bold;color:darkred\">Loops (Need) Exercises</span></div>"
   ]
  },
  {
   "cell_type": "markdown",
   "id": "b9b4d80c",
   "metadata": {},
   "source": [
    "## Exercise 1 (Celsius to Fahrenheit)"
   ]
  },
  {
   "cell_type": "code",
   "execution_count": 2,
   "id": "e202c77a",
   "metadata": {},
   "outputs": [
    {
     "name": "stdout",
     "output_type": "stream",
     "text": [
      "0°C = 32.0°F\n",
      "5°C = 41.0°F\n",
      "10°C = 50.0°F\n",
      "15°C = 59.0°F\n",
      "20°C = 68.0°F\n",
      "25°C = 77.0°F\n",
      "30°C = 86.0°F\n",
      "35°C = 95.0°F\n",
      "40°C = 104.0°F\n",
      "45°C = 113.0°F\n",
      "50°C = 122.0°F\n"
     ]
    }
   ],
   "source": [
    "temperatures_celsius = [\n",
    "    0, 5, 10, 15, 20, 25,\n",
    "    30, 35, 40, 45, 50\n",
    "]\n",
    "for temp_c in temperatures_celsius:\n",
    "    temp_f = 9/5*temp_c+32\n",
    "    print(f\"{temp_c}°C = {temp_f:.1f}°F\")"
   ]
  },
  {
   "cell_type": "markdown",
   "id": "2a5266a5",
   "metadata": {},
   "source": [
    "## Exercise 2 (Multiplication table)"
   ]
  },
  {
   "cell_type": "code",
   "execution_count": 14,
   "id": "d594456d",
   "metadata": {},
   "outputs": [
    {
     "name": "stdout",
     "output_type": "stream",
     "text": [
      "1 : 1   2   3   4   5   \n",
      "\n",
      "2 : 2   4   6   8   10   \n",
      "\n",
      "3 : 3   6   9   12   15   \n",
      "\n",
      "4 : 4   8   12   16   20   \n",
      "\n",
      "5 : 5   10   15   20   25   \n",
      "\n"
     ]
    }
   ],
   "source": [
    "for n in [1,2,3,4,5]:\n",
    "    print(f\"{n} : \", end = \"\")\n",
    "    for m in [1,2,3,4,5]:\n",
    "        print(f\"{m*n}\", end=\"   \")\n",
    "    print(\"\\n\")"
   ]
  },
  {
   "cell_type": "markdown",
   "id": "e1f8711b",
   "metadata": {},
   "source": [
    "## Exercise 3 (Simulating a Coin Flip Experiment)"
   ]
  },
  {
   "cell_type": "code",
   "execution_count": null,
   "id": "ff018680",
   "metadata": {},
   "outputs": [],
   "source": [
    "import numpy as np\n",
    "for i in range(10):\n",
    "    result = np.random.rand(10)\n",
    "    result[result<0.5]=0\n",
    "    result[result>=0.5]=1\n",
    "    mask_result = result[mask]\n",
    "\n",
    "    print(f\"Experiment {i}: No. of heads = {}\")"
   ]
  }
 ],
 "metadata": {
  "kernelspec": {
   "display_name": "base",
   "language": "python",
   "name": "python3"
  },
  "language_info": {
   "codemirror_mode": {
    "name": "ipython",
    "version": 3
   },
   "file_extension": ".py",
   "mimetype": "text/x-python",
   "name": "python",
   "nbconvert_exporter": "python",
   "pygments_lexer": "ipython3",
   "version": "3.13.5"
  },
  "toc": {
   "base_numbering": 1,
   "nav_menu": {},
   "number_sections": true,
   "sideBar": true,
   "skip_h1_title": false,
   "title_cell": "Table of Contents",
   "title_sidebar": "Contents",
   "toc_cell": false,
   "toc_position": {},
   "toc_section_display": true,
   "toc_window_display": false
  }
 },
 "nbformat": 4,
 "nbformat_minor": 5
}
