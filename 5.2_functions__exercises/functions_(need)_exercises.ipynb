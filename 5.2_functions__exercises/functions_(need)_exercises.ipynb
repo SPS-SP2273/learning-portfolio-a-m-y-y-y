{
 "cells": [
  {
   "attachments": {},
   "cell_type": "markdown",
   "id": "123456",
   "metadata": {},
   "source": [
    "<div style=\"text-align:left;font-size:2em\"><span style=\"font-weight:bolder;font-size:1.25em\">SP2273 | Learning Portfolio</span><br><br><span style=\"font-weight:bold;color:darkred\">Functions (Need) Exercises</span></div>"
   ]
  },
  {
   "cell_type": "markdown",
   "id": "daa1b0f5",
   "metadata": {},
   "source": [
    "## Exercise 1 (Do you know why?)"
   ]
  },
  {
   "cell_type": "markdown",
   "id": "cc1280a9",
   "metadata": {},
   "source": [
    "The code works despite not having an else statement because the \"return\" immediately exits the function once it is executed. If the condition is not True, the function will skip the \"if\" block and continue to return f\"Hello {name}!\". The else statment is optional as well."
   ]
  },
  {
   "cell_type": "markdown",
   "id": "c513beba",
   "metadata": {},
   "source": [
    "## Exercise 2 (Chubby or not)"
   ]
  },
  {
   "cell_type": "code",
   "execution_count": 26,
   "id": "c3a9f27e",
   "metadata": {},
   "outputs": [
    {
     "data": {
      "text/plain": [
       "'Underweight'"
      ]
     },
     "execution_count": 26,
     "metadata": {},
     "output_type": "execute_result"
    }
   ],
   "source": [
    "def calculate_bmi(weight, height):\n",
    "    bmi = weight / (height ** 2)\n",
    "    if bmi<18.5:\n",
    "        return \"Underweight\"\n",
    "    elif bmi<24.9:\n",
    "        return \"Normal weight\"\n",
    "    elif bmi<29.9:\n",
    "        return \"Overweight\"\n",
    "    else:\n",
    "        return \"Obese\"\n",
    "\n",
    "calculate_bmi(42, 1.61)"
   ]
  },
  {
   "cell_type": "markdown",
   "id": "1294c8a7",
   "metadata": {},
   "source": [
    "## Exercise 3 (Factorials)"
   ]
  },
  {
   "cell_type": "code",
   "execution_count": 20,
   "id": "5982a400",
   "metadata": {},
   "outputs": [
    {
     "data": {
      "text/plain": [
       "362880"
      ]
     },
     "execution_count": 20,
     "metadata": {},
     "output_type": "execute_result"
    }
   ],
   "source": [
    "def factorial(n):\n",
    "    result = 1\n",
    "    if n == 0:\n",
    "        return result\n",
    "    elif n > 0:\n",
    "        for i in range(1, n+1):\n",
    "            result*=i\n",
    "        return result\n",
    "    else:\n",
    "        return \"factorial is not defined for negative integers!\"\n",
    "\n",
    "factorial(9)"
   ]
  }
 ],
 "metadata": {
  "kernelspec": {
   "display_name": "base",
   "language": "python",
   "name": "python3"
  },
  "language_info": {
   "codemirror_mode": {
    "name": "ipython",
    "version": 3
   },
   "file_extension": ".py",
   "mimetype": "text/x-python",
   "name": "python",
   "nbconvert_exporter": "python",
   "pygments_lexer": "ipython3",
   "version": "3.13.5"
  },
  "toc": {
   "base_numbering": 1,
   "nav_menu": {},
   "number_sections": true,
   "sideBar": true,
   "skip_h1_title": false,
   "title_cell": "Table of Contents",
   "title_sidebar": "Contents",
   "toc_cell": false,
   "toc_position": {},
   "toc_section_display": true,
   "toc_window_display": false
  }
 },
 "nbformat": 4,
 "nbformat_minor": 5
}
