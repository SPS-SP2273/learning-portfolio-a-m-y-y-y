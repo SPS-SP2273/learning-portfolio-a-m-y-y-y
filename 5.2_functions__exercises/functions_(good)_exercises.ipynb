{
 "cells": [
  {
   "attachments": {},
   "cell_type": "markdown",
   "id": "123456",
   "metadata": {},
   "source": [
    "<div style=\"text-align:left;font-size:2em\"><span style=\"font-weight:bolder;font-size:1.25em\">SP2273 | Learning Portfolio</span><br><br><span style=\"font-weight:bold;color:darkred\">Functions (Good) Exercises</span></div>"
   ]
  },
  {
   "cell_type": "markdown",
   "id": "ee923a0c",
   "metadata": {
    "vscode": {
     "languageId": "plaintext"
    }
   },
   "source": [
    "## Exercise 1 (Celsius to Fahrenheit or Kelvin)"
   ]
  },
  {
   "cell_type": "code",
   "execution_count": 26,
   "id": "8a5ffd4d",
   "metadata": {},
   "outputs": [
    {
     "name": "stdout",
     "output_type": "stream",
     "text": [
      "302.15\n",
      "84.2\n"
     ]
    }
   ],
   "source": [
    "def convert_celsius(temperature_celsius, target_scale=\"Fahrenheit\"):\n",
    "    if target_scale == \"Kelvin\":\n",
    "        return temperature_celsius + 273.15\n",
    "    else:\n",
    "        return 9/5*temperature_celsius + 32\n",
    "\n",
    "print(convert_celsius(29, \"Kelvin\"))\n",
    "print(convert_celsius(29))\n",
    "\n",
    "# Here I'll take it as that the task wants the function to return the temperature in degrees Fahrenheit if I put anything other than \"Kelvin\" for target_scale :)"
   ]
  },
  {
   "cell_type": "markdown",
   "id": "5d016904",
   "metadata": {},
   "source": [
    "## Exercise 2 (Fahrenheit to Celsius or Kelvin)"
   ]
  },
  {
   "cell_type": "code",
   "execution_count": 27,
   "id": "f44c101e",
   "metadata": {},
   "outputs": [
    {
     "name": "stdout",
     "output_type": "stream",
     "text": [
      "271.48333333333335\n",
      "-1.6666666666666667\n"
     ]
    }
   ],
   "source": [
    "def convert_fahrenheit(temperature_fahrenheit, target_scale=\"Celsius\"):\n",
    "    if target_scale == \"Kelvin\":\n",
    "        return (temperature_fahrenheit + 459.67)*5/9\n",
    "    else:\n",
    "        return (temperature_fahrenheit - 32)*5/9\n",
    "\n",
    "print(convert_fahrenheit(29, \"Kelvin\"))\n",
    "print(convert_fahrenheit(29))"
   ]
  },
  {
   "cell_type": "markdown",
   "id": "54d5e7fa",
   "metadata": {},
   "source": [
    "## Exercise 3 (General Temperature Conversion)"
   ]
  },
  {
   "cell_type": "code",
   "execution_count": 29,
   "id": "a644a388",
   "metadata": {},
   "outputs": [
    {
     "data": {
      "text/plain": [
       "84.2"
      ]
     },
     "execution_count": 29,
     "metadata": {},
     "output_type": "execute_result"
    }
   ],
   "source": [
    "def convert_temperature(temperature, source_scale, target_scale):\n",
    "    if source_scale == target_scale:\n",
    "        return temperature\n",
    "    elif source_scale == \"Celsius\":\n",
    "        return convert_celsius(temperature, target_scale)\n",
    "    elif source_scale == \"Fahrenheit\":\n",
    "        return convert_fahrenheit(temperature, target_scale)\n",
    "    elif source_scale == \"Kelvin\":\n",
    "        celsius_temp = temperature - 273.15\n",
    "        return convert_celsius(celsius_temp, target_scale)\n",
    "\n",
    "convert_temperature(29, \"Celsius\", \"Fahrenheit\")"
   ]
  }
 ],
 "metadata": {
  "kernelspec": {
   "display_name": "base",
   "language": "python",
   "name": "python3"
  },
  "language_info": {
   "codemirror_mode": {
    "name": "ipython",
    "version": 3
   },
   "file_extension": ".py",
   "mimetype": "text/x-python",
   "name": "python",
   "nbconvert_exporter": "python",
   "pygments_lexer": "ipython3",
   "version": "3.13.5"
  },
  "toc": {
   "base_numbering": 1,
   "nav_menu": {},
   "number_sections": true,
   "sideBar": true,
   "skip_h1_title": false,
   "title_cell": "Table of Contents",
   "title_sidebar": "Contents",
   "toc_cell": false,
   "toc_position": {},
   "toc_section_display": true,
   "toc_window_display": false
  }
 },
 "nbformat": 4,
 "nbformat_minor": 5
}
