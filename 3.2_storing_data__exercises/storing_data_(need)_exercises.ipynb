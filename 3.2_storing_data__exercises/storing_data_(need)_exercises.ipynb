{
 "cells": [
  {
   "attachments": {},
   "cell_type": "markdown",
   "id": "123456",
   "metadata": {},
   "source": [
    "<div style=\"text-align:left;font-size:2em\"><span style=\"font-weight:bolder;font-size:1.25em\">SP2273 | Learning Portfolio</span><br><br><span style=\"font-weight:bold;color:darkred\">Storing Data (Need) Exercises</span></div>"
   ]
  },
  {
   "cell_type": "markdown",
   "id": "ed579873",
   "metadata": {},
   "source": [
    "## Exercise 1 (Total recall?)"
   ]
  },
  {
   "cell_type": "markdown",
   "id": "cc00121c",
   "metadata": {},
   "source": [
    "1. Two similarities between lists and arrays:<br>The order of information stored matters for both lists and arrays. The index of variables stored in both lists and arrays starts from 0.<br><br>\n",
    "1. Two differences between lists and arrays:<br>Lists use square brackets [], but arrays use round brackets (). Arrays only have a single data type, but different data types can exist in lists. _We can add numbers to arrays containing numbers, but not lists. Adding two lists together merges them together, but adding two arrays is an element-wise operation. Multiplying by a number makes a list grow, whereas an array multiplies each of its individual elements by the number. To put it simply, an operation on a list works on the whole list, while an operation on an array works on the individual elements of the array._<br><br>\n",
    "1. What is a dictionary?<br>In python, a dictionary is a collection of items that are stored in pairs of a key and a value. _The key and the associated value are separated by a \":\". We can access the value using the key._"
   ]
  },
  {
   "cell_type": "markdown",
   "id": "2d946972",
   "metadata": {},
   "source": [
    "## Exercise 2 (Indexing)"
   ]
  },
  {
   "cell_type": "code",
   "execution_count": 2,
   "id": "2dd462f4",
   "metadata": {},
   "outputs": [
    {
     "name": "stdout",
     "output_type": "stream",
     "text": [
      "a1\n",
      "c3\n",
      "e5\n",
      "g7\n",
      "i9\n"
     ]
    }
   ],
   "source": [
    "py_list = [\"a1\", \"b2\", \"c3\", \"d4\", \"e5\", \"f6\", \"g7\", \"h8\", \"i9\", \"j10\"]\n",
    "print(py_list[0])   # Prints 'a1'\n",
    "print(py_list[2])   # Prints 'c3'\n",
    "print(py_list[4])   # Prints 'e5'\n",
    "print(py_list[6])   # Prints 'g7'\n",
    "print(py_list[8])   # Prints 'i9'"
   ]
  },
  {
   "cell_type": "markdown",
   "id": "86b5b766",
   "metadata": {},
   "source": [
    "## Exercise 3 (Index again)"
   ]
  },
  {
   "cell_type": "code",
   "execution_count": 4,
   "id": "9063dab4",
   "metadata": {},
   "outputs": [
    {
     "name": "stdout",
     "output_type": "stream",
     "text": [
      "Beryllium\n",
      "Beryllium\n"
     ]
    }
   ],
   "source": [
    "elements = ['Hydrogen',\n",
    "            'Helium', 'Lithium',\n",
    "            'Beryllium', 'Boron', 'Carbon',\n",
    "            'Nitrogen', 'Oxygen',\n",
    "            'Fluorine',\n",
    "            'Neon']\n",
    "print(elements[3])\n",
    "print(elements[-7])"
   ]
  },
  {
   "cell_type": "markdown",
   "id": "b3fa5156",
   "metadata": {},
   "source": [
    "## Exercise 4 (How many ones)"
   ]
  },
  {
   "cell_type": "code",
   "execution_count": 27,
   "id": "e6ed1c9f",
   "metadata": {},
   "outputs": [
    {
     "name": "stdout",
     "output_type": "stream",
     "text": [
      "9\n"
     ]
    }
   ],
   "source": [
    "numbers=[45, 60, 1, 30, 96, 1, 96, 57, 16, 1,\n",
    "        99, 62, 86, 43, 42, 60, 59, 1, 1, 35,\n",
    "        83, 47, 34, 28, 68, 23, 22, 92, 1, 79,\n",
    "        1, 29, 94, 72, 46, 47, 1, 74, 32, 20,\n",
    "        8, 37, 35, 1, 89, 29, 86, 19, 43, 61]\n",
    "\n",
    "numbers_array=np.array(numbers)\n",
    "bool_array = numbers_array==1\n",
    "print(bool_array.sum())"
   ]
  },
  {
   "cell_type": "markdown",
   "id": "db45e0e2",
   "metadata": {},
   "source": [
    "## Exercise 5 (A Matter of Statistics)"
   ]
  },
  {
   "cell_type": "code",
   "execution_count": 29,
   "id": "a6621e5c",
   "metadata": {},
   "outputs": [
    {
     "name": "stdout",
     "output_type": "stream",
     "text": [
      "mean of x_1: 38.5\n",
      "mean of x_2: 302.5\n",
      "standard deviation of x_1: 32.41990129534635\n",
      "standard deviation of x_2: 326.0893282522444\n",
      "calculated r value: 0.9871796626270702\n",
      "r value using np.corrcoef(): [[1.         0.98717966]\n",
      " [0.98717966 1.        ]]\n"
     ]
    }
   ],
   "source": [
    "x_1 = [1, 4, 9, 16, 25, 36, 49, 64, 81, 100]\n",
    "x_2 = [1, 8, 27, 64, 125, 216, 343, 512, 729, 1000]\n",
    "print(\"mean of x_1:\", np.mean(x_1))\n",
    "print(\"mean of x_2:\", np.mean(x_2))\n",
    "print(\"standard deviation of x_1:\", np.std(x_1))\n",
    "print(\"standard deviation of x_2:\", np.std(x_2))\n",
    "\n",
    "n = np.sum((np.array(x_1) - np.mean(x_1)) * (np.array(x_2) - np.mean(x_2)))\n",
    "d = 10 * np.std(x_1) * np.std(x_2)\n",
    "print(\"calculated r value:\", n/d)\n",
    "print(\"r value using np.corrcoef():\", np.corrcoef(x_1, x_2))"
   ]
  }
 ],
 "metadata": {
  "kernelspec": {
   "display_name": "base",
   "language": "python",
   "name": "python3"
  },
  "language_info": {
   "codemirror_mode": {
    "name": "ipython",
    "version": 3
   },
   "file_extension": ".py",
   "mimetype": "text/x-python",
   "name": "python",
   "nbconvert_exporter": "python",
   "pygments_lexer": "ipython3",
   "version": "3.13.5"
  },
  "toc": {
   "base_numbering": 1,
   "nav_menu": {},
   "number_sections": true,
   "sideBar": true,
   "skip_h1_title": false,
   "title_cell": "Table of Contents",
   "title_sidebar": "Contents",
   "toc_cell": false,
   "toc_position": {},
   "toc_section_display": true,
   "toc_window_display": false
  }
 },
 "nbformat": 4,
 "nbformat_minor": 5
}
