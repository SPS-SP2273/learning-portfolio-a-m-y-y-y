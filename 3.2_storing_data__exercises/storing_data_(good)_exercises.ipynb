{
 "cells": [
  {
   "attachments": {},
   "cell_type": "markdown",
   "id": "123456",
   "metadata": {},
   "source": [
    "<div style=\"text-align:left;font-size:2em\"><span style=\"font-weight:bolder;font-size:1.25em\">SP2273 | Learning Portfolio</span><br><br><span style=\"font-weight:bold;color:darkred\">Storing Data (Good) Exercises</span></div>"
   ]
  },
  {
   "cell_type": "markdown",
   "id": "97606c02",
   "metadata": {},
   "source": [
    "## Exercise 1 (Total recall)"
   ]
  },
  {
   "cell_type": "markdown",
   "id": "b7c5f3d1",
   "metadata": {
    "vscode": {
     "languageId": "plaintext"
    }
   },
   "source": [
    "| Term | Brief description |\n",
    "| :--- | :-- |\n",
    "| Subsetting | Selecting a portion _or subset_ of a list or array.  |\n",
    "| Indexing | Selecting a specific element in a list or array. |\n",
    "| Slicing | Selecting a range of elements in a list or array. |\n",
    "| Masking | Overlaying values in an array with their True/False values. _Only the True subset is seen_ |"
   ]
  },
  {
   "cell_type": "markdown",
   "id": "97c5811a",
   "metadata": {},
   "source": [
    "## Exercise 2 (Show me the ‘odd’ letters)"
   ]
  },
  {
   "cell_type": "code",
   "execution_count": 19,
   "id": "fdca4b45",
   "metadata": {},
   "outputs": [
    {
     "name": "stdout",
     "output_type": "stream",
     "text": [
      "['A' 'C' 'E' 'G' 'I']\n"
     ]
    }
   ],
   "source": [
    "import numpy as np\n",
    "np_array_2d = np.array([[1, \"A\"], [3, \"C\"], [2, \"B\"], [4, \"D\"],\n",
    "                        [5, \"E\"], [7, \"G\"], [6, \"F\"], [8, \"H\"],\n",
    "                        [10, \"J\"], [9, \"I\"]])\n",
    "np_array_1d = np_array_2d[:, 0]\n",
    "np_array_1d = np_array_1d.astype(int)\n",
    "np_array_1d%=2\n",
    "my_mask = np_array_1d>0\n",
    "print(np_array_2d[my_mask][:,1])"
   ]
  },
  {
   "cell_type": "markdown",
   "id": "91611000",
   "metadata": {},
   "source": [
    "## Exercise 3"
   ]
  },
  {
   "cell_type": "code",
   "execution_count": null,
   "id": "06c3fee2",
   "metadata": {},
   "outputs": [
    {
     "name": "stdout",
     "output_type": "stream",
     "text": [
      "[[ 1  0  1 -1 -1]\n",
      " [ 1 -1  1 -1 -1]\n",
      " [ 1 -1 -1  1 -1]\n",
      " [-1  1  1 -1 -1]\n",
      " [ 1 -1  1 -1  1]]\n"
     ]
    }
   ],
   "source": [
    "import numpy as np\n",
    "my_array = np.array([[66, 50, 57, -1, -1],\n",
    "                    [92, -1, 88, -1, -1],\n",
    "                    [75, -1, -1, 76, -1],\n",
    "                    [-1, 51, 87, -1, -1],\n",
    "                    [71, -1, 67, -1, 69]])\n",
    "my_array[my_array<50] = -1\n",
    "my_array[my_array>50] = 1\n",
    "my_array[my_array==50] = 0\n",
    "print(my_array)\n",
    "\n",
    "# Optional: if you want to shorten the code even more, you can simply write the following to create your mask\n",
    "# np_array_1d = np_array_2d[:, 0]\n",
    "# np_array_1d = np_array_1d.astype(int)\n",
    "# my_mask = np_array_1d % 2 > 0"
   ]
  }
 ],
 "metadata": {
  "kernelspec": {
   "display_name": "base",
   "language": "python",
   "name": "python3"
  },
  "language_info": {
   "codemirror_mode": {
    "name": "ipython",
    "version": 3
   },
   "file_extension": ".py",
   "mimetype": "text/x-python",
   "name": "python",
   "nbconvert_exporter": "python",
   "pygments_lexer": "ipython3",
   "version": "3.13.5"
  },
  "toc": {
   "base_numbering": 1,
   "nav_menu": {},
   "number_sections": true,
   "sideBar": true,
   "skip_h1_title": false,
   "title_cell": "Table of Contents",
   "title_sidebar": "Contents",
   "toc_cell": false,
   "toc_position": {},
   "toc_section_display": true,
   "toc_window_display": false
  }
 },
 "nbformat": 4,
 "nbformat_minor": 5
}
