{
 "cells": [
  {
   "attachments": {},
   "cell_type": "markdown",
   "id": "123456",
   "metadata": {},
   "source": [
    "<div style=\"text-align:left;font-size:2em\"><span style=\"font-weight:bolder;font-size:1.25em\">SP2273 | Learning Portfolio</span><br><br><span style=\"font-weight:bold;color:darkred\">Using Jupyter (Need), Exercises</span></div>"
   ]
  },
  {
   "attachments": {},
   "cell_type": "markdown",
   "id": "3ec54b11",
   "metadata": {},
   "source": [
    "## 1 Quadratic Equations"
   ]
  },
  {
   "attachments": {},
   "cell_type": "markdown",
   "id": "edf009e9",
   "metadata": {},
   "source": [
    "### Introduction"
   ]
  },
  {
   "cell_type": "markdown",
   "id": "e1cab15d-6e4d-48cd-8333-32af815ce7a7",
   "metadata": {},
   "source": [
    "![](https://upload.wikimedia.org/wikipedia/commons/thumb/f/f8/Polynomialdeg2.svg/450px-Polynomialdeg2.svg.png)"
   ]
  },
  {
   "cell_type": "markdown",
   "id": "9363442e-5ff9-48e9-b79b-be0722f4bb3f",
   "metadata": {},
   "source": [
    "_(Image from the [Wikipedia page on Quadratic equations](https://en.wikipedia.org/wiki/Quadratic_equation))_"
   ]
  },
  {
   "cell_type": "markdown",
   "id": "ede8c3ef-7ed5-479b-846b-f60b8f734d03",
   "metadata": {},
   "source": [
    "The general form of a quadratic equation is:"
   ]
  },
  {
   "cell_type": "markdown",
   "id": "cbd3a4d5-b604-45fd-9e0c-991cc2c59339",
   "metadata": {},
   "source": [
    "$$\n",
    "ax^2 + bx + c = 0\n",
    "$$"
   ]
  },
  {
   "attachments": {},
   "cell_type": "markdown",
   "id": "4cacbf43",
   "metadata": {},
   "source": [
    "### Solutions"
   ]
  },
  {
   "cell_type": "markdown",
   "id": "fe054bf0-be88-4b99-9651-12436a7096cd",
   "metadata": {},
   "source": [
    "Provided $a \\ne 0$, we can use an elementary algebraic method called [completing the square](https://en.wikipedia.org/wiki/Completing_the_square) to show that a quadratic equation has the following solution:"
   ]
  },
  {
   "cell_type": "markdown",
   "id": "9c646c09-c447-4b8c-81f4-7e8657709d9c",
   "metadata": {},
   "source": [
    "$$\n",
    "x = \\dfrac{-b \\pm \\sqrt{b^2-4ac}}{2a}\n",
    "$$"
   ]
  },
  {
   "attachments": {},
   "cell_type": "markdown",
   "id": "fe8f5b5a",
   "metadata": {},
   "source": [
    "### Discriminant"
   ]
  },
  {
   "cell_type": "markdown",
   "id": "2216fb15-8aff-4c43-9a5d-494e2846e6d1",
   "metadata": {},
   "source": [
    "The quantity $\\Delta = b^2 - 4ac$ is called the **discriminant** of the equation and decides the nature of its solutions. The table below shows the various possibilities."
   ]
  },
  {
   "cell_type": "markdown",
   "id": "df5c244c-64b0-4499-8664-9f70891949e8",
   "metadata": {},
   "source": [
    "|    Discriminant    |  Roots   |\n",
    "| :---: | :--- |\n",
    "| $\\Delta = b^2 - 4ac = 0$   |  \tA single solution of $-b/(2a)$  |\n",
    "| $\\Delta = b^2 - 4ac > 0$   |  Two distinct solutions  |\n",
    "| $\\Delta = b^2 - 4ac < 0$   |  \tNo real solutions; both are complex.  |"
   ]
  },
  {
   "cell_type": "markdown",
   "id": "02ab2682-31de-4619-88f9-301e8081a51c",
   "metadata": {},
   "source": [
    "## 2 Exercise 2 (In Your Own Words)"
   ]
  },
  {
   "cell_type": "markdown",
   "id": "b1b7f599-b760-4eb9-af7f-f68d4508052d",
   "metadata": {},
   "source": [
    "What is a Git **repository**?<br>A Git repository is "
   ]
  },
  {
   "cell_type": "markdown",
   "id": "d18a53bc-e94f-49df-9405-299fe0e7cb9a",
   "metadata": {},
   "source": [
    "Git keeps track of ____BLANK____ in the files in our repository."
   ]
  },
  {
   "cell_type": "markdown",
   "id": "2b594edb-9670-4a7b-8518-3d68fd017876",
   "metadata": {},
   "source": [
    "What is a **commit**?"
   ]
  },
  {
   "cell_type": "markdown",
   "id": "5534d1d4-d3d5-436f-8643-e77b9abb8ee5",
   "metadata": {},
   "source": [
    "What is a **push**?"
   ]
  },
  {
   "cell_type": "markdown",
   "id": "c997c54d-2710-41cb-9783-b3ba0b727861",
   "metadata": {},
   "source": [
    "What is a **pull**?"
   ]
  },
  {
   "cell_type": "markdown",
   "id": "3c249d4c-6e15-4606-9a60-703a136b872c",
   "metadata": {},
   "source": [
    "What is the difference between **GitHub** and **GitHub Desktop**?"
   ]
  },
  {
   "cell_type": "markdown",
   "id": "f5d9e6b3-70ce-4fde-9970-71bbd6122f0e",
   "metadata": {},
   "source": [
    "## 3 Exercise 3 (A Matter of Statistics)"
   ]
  },
  {
   "cell_type": "markdown",
   "id": "81c6c53f-5583-47d1-bd11-d424281d8999",
   "metadata": {},
   "source": [
    "$$\n",
    "\\mu = \\frac{1}{n}\\sum_{i=1}^n x_i\n",
    "$$"
   ]
  },
  {
   "cell_type": "markdown",
   "id": "0cd9ed46-2264-44c4-967d-a828db0c32e6",
   "metadata": {},
   "source": [
    "$$\n",
    "\\sigma = \\sqrt{\\frac{1}{n}\\sum_{i=1}^n (x_i - \\mu)^2}\n",
    "$$"
   ]
  },
  {
   "cell_type": "markdown",
   "id": "1d57fa50-6336-4ef9-9fbf-25c09ccace33",
   "metadata": {},
   "source": [
    "$$\n",
    "r = \\frac{\\sum_{i=1}^{n}(x_i - \\mu_X)(y_i - \\mu_Y)}{\\sqrt{\\sum_{i=1}^{n}(x_i - \\mu_X)^2\\sum_{i=1}^{n}(y_i - \\mu_Y)^2}}\n",
    "$$"
   ]
  }
 ],
 "metadata": {
  "kernelspec": {
   "display_name": "Python 3 (ipykernel)",
   "language": "python",
   "name": "python3"
  },
  "language_info": {
   "codemirror_mode": {
    "name": "ipython",
    "version": 3
   },
   "file_extension": ".py",
   "mimetype": "text/x-python",
   "name": "python",
   "nbconvert_exporter": "python",
   "pygments_lexer": "ipython3",
   "version": "3.13.5"
  },
  "toc": {
   "base_numbering": 1,
   "nav_menu": {},
   "number_sections": true,
   "sideBar": true,
   "skip_h1_title": false,
   "title_cell": "Table of Contents",
   "title_sidebar": "Contents",
   "toc_cell": false,
   "toc_position": {},
   "toc_section_display": true,
   "toc_window_display": false
  },
  "vscode": {
   "interpreter": {
    "hash": "31f2aee4e71d21fbe5cf8b01ff0e069b9275f58929596ceb00d14d90e3e16cd6"
   }
  }
 },
 "nbformat": 4,
 "nbformat_minor": 5
}
