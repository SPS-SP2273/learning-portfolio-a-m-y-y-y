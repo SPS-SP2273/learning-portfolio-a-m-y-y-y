{
 "cells": [
  {
   "attachments": {},
   "cell_type": "markdown",
   "id": "123456",
   "metadata": {},
   "source": [
    "<div style=\"text-align:left;font-size:2em\"><span style=\"font-weight:bolder;font-size:1.25em\">SP2273 | Learning Portfolio</span><br><br><span style=\"font-weight:bold;color:darkred\">Fundamentals (Need) Exercises</span></div>"
   ]
  },
  {
   "cell_type": "markdown",
   "id": "b88e0d32-5b58-4dc1-aac7-269fb462b4cc",
   "metadata": {},
   "source": [
    "# Exercise 1"
   ]
  },
  {
   "cell_type": "markdown",
   "id": "8a0fda52-4de7-4efc-ba3c-35c7dbce3998",
   "metadata": {},
   "source": [
    "- print() function\n",
    "- comments using #\n",
    "- assigning a variable using =\n",
    "- asking a questions using == (either True or False)\n",
    "- if else statements to consider cases\n",
    "- indentations matter, always use the tab button\n",
    "- _quotation marks to indicate a string_\n",
    "- brackets in functions (), math (), lists [], tuples (), dictionaries {}, sets {}\n",
    "- importing libraries (e.g. math, numpy), giving a library an alias for simplicity (e.g. \"import numpy as np\")\n",
    "- using the dot \".\" to indicate ownership, for instance, calling a function that belongs to a library (e.g. np.qrt(9))"
   ]
  },
  {
   "cell_type": "markdown",
   "id": "4517e3ff-760d-41e4-ae63-48b76ee49ad1",
   "metadata": {},
   "source": [
    "# Exercise 2"
   ]
  },
  {
   "cell_type": "code",
   "execution_count": 5,
   "id": "cde1dbc8-2ff6-4f02-acec-83ff751c445f",
   "metadata": {},
   "outputs": [
    {
     "name": "stdout",
     "output_type": "stream",
     "text": [
      "3 4 5.0\n"
     ]
    }
   ],
   "source": [
    "import math\n",
    "x, y = 3, 4\n",
    "z = math.sqrt(x**2 + y**2)\n",
    "print(x, y, z)"
   ]
  },
  {
   "cell_type": "markdown",
   "id": "65bbc324-7de9-4ff1-9d21-a947538ffdbc",
   "metadata": {},
   "source": [
    "# Exercise 3"
   ]
  },
  {
   "cell_type": "markdown",
   "id": "869212db-c1ed-4c22-8d87-533d55afa167",
   "metadata": {},
   "source": [
    "|#|Term|Description|\n",
    "|:---|:---|:---|\n",
    "|1|Function|A block of code that can be called to perform a specific task.|\n",
    "|2|Arguments|A value that a function takes in when it is called, which is assigned to the function's parameters.|\n",
    "|3|Comments|Notes among the code indicated by '#', that are ignored by Python when executing the code.|\n",
    "|4|Indentations|Spaces or tabs at the start of a line of code, to define a block of code.|\n",
    "|5|Packages|Contain modules that have diverse functions beyond the standard ones in Python.|\n",
    "|6|`.`|Used to access attributes of an object.|\n",
    "|7|`:`|Indicates the start of an indented block of code.|\n",
    "|8|`[]`|Square brackets define a list, a null list in this case.|\n",
    "|9|`[[],[]]`|A nested list, in this case a list containing 2 null lists.|\n",
    "|10|`{}`|Defines a dictionary.|"
   ]
  },
  {
   "cell_type": "markdown",
   "id": "23f58ce1-1ed0-4394-afe4-cf722bc3ebdf",
   "metadata": {},
   "source": [
    "# Exercise 4"
   ]
  },
  {
   "cell_type": "code",
   "execution_count": 14,
   "id": "c3ca3445-3ffd-4c21-b927-4076197ba28c",
   "metadata": {},
   "outputs": [
    {
     "data": {
      "text/plain": [
       "2.5"
      ]
     },
     "execution_count": 14,
     "metadata": {},
     "output_type": "execute_result"
    }
   ],
   "source": [
    "5/2           # simply divides 5 by 2, the result is exact"
   ]
  },
  {
   "cell_type": "code",
   "execution_count": 13,
   "id": "58675b23-c730-480c-ba7e-80690b562ed6",
   "metadata": {},
   "outputs": [
    {
     "data": {
      "text/plain": [
       "2"
      ]
     },
     "execution_count": 13,
     "metadata": {},
     "output_type": "execute_result"
    }
   ],
   "source": [
    "5//2          # divides 5 by 2, but the result is an integer which is the floor value of the exact result"
   ]
  },
  {
   "cell_type": "code",
   "execution_count": 11,
   "id": "50865312-c9c6-4bdd-9eda-e282ec09da54",
   "metadata": {},
   "outputs": [
    {
     "data": {
      "text/plain": [
       "1"
      ]
     },
     "execution_count": 11,
     "metadata": {},
     "output_type": "execute_result"
    }
   ],
   "source": [
    "5%2           # the result is the remainder when 5 is divded by 2"
   ]
  }
 ],
 "metadata": {
  "kernelspec": {
   "display_name": "Python 3 (ipykernel)",
   "language": "python",
   "name": "python3"
  },
  "language_info": {
   "codemirror_mode": {
    "name": "ipython",
    "version": 3
   },
   "file_extension": ".py",
   "mimetype": "text/x-python",
   "name": "python",
   "nbconvert_exporter": "python",
   "pygments_lexer": "ipython3",
   "version": "3.13.5"
  },
  "toc": {
   "base_numbering": 1,
   "nav_menu": {},
   "number_sections": true,
   "sideBar": true,
   "skip_h1_title": false,
   "title_cell": "Table of Contents",
   "title_sidebar": "Contents",
   "toc_cell": false,
   "toc_position": {},
   "toc_section_display": true,
   "toc_window_display": false
  },
  "vscode": {
   "interpreter": {
    "hash": "31f2aee4e71d21fbe5cf8b01ff0e069b9275f58929596ceb00d14d90e3e16cd6"
   }
  }
 },
 "nbformat": 4,
 "nbformat_minor": 5
}
