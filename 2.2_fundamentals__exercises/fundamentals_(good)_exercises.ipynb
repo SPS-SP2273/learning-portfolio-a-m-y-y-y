{
 "cells": [
  {
   "attachments": {},
   "cell_type": "markdown",
   "id": "123456",
   "metadata": {},
   "source": [
    "<div style=\"text-align:left;font-size:2em\"><span style=\"font-weight:bolder;font-size:1.25em\">SP2273 | Learning Portfolio</span><br><br><span style=\"font-weight:bold;color:darkred\">Fundamentals (Good) Exercises</span></div>"
   ]
  },
  {
   "cell_type": "markdown",
   "id": "bfb0ec06",
   "metadata": {},
   "source": [
    "# Exercise 1 (f-strings to the rescue)"
   ]
  },
  {
   "cell_type": "markdown",
   "id": "a8510282",
   "metadata": {},
   "source": [
    "### Task 1"
   ]
  },
  {
   "cell_type": "code",
   "execution_count": 1,
   "id": "c22da743",
   "metadata": {},
   "outputs": [
    {
     "name": "stdout",
     "output_type": "stream",
     "text": [
      "How you doin amy!\n"
     ]
    }
   ],
   "source": [
    "name = input(\"what's your name? \")\n",
    "print(f\"How you doin {name}!\")"
   ]
  },
  {
   "cell_type": "markdown",
   "id": "69d8ce13",
   "metadata": {},
   "source": [
    "### Task 2"
   ]
  },
  {
   "cell_type": "code",
   "execution_count": 1,
   "id": "1145e8df",
   "metadata": {},
   "outputs": [
    {
     "name": "stdout",
     "output_type": "stream",
     "text": [
      "My name is amy and I am 19 years old.\n"
     ]
    }
   ],
   "source": [
    "name = input(\"what's your name? \")\n",
    "age = input(\"how old are you? \")\n",
    "print(f\"My name is {name} and I am {age} years old.\")"
   ]
  },
  {
   "cell_type": "markdown",
   "id": "6782332e",
   "metadata": {},
   "source": [
    "### Task 3"
   ]
  },
  {
   "cell_type": "code",
   "execution_count": 6,
   "id": "5be0acbb",
   "metadata": {},
   "outputs": [
    {
     "name": "stdout",
     "output_type": "stream",
     "text": [
      "The value of pi to 2 decimal places is: 3.14\n",
      "The value of pi to 2 decimal places is: 3.142\n",
      "The value of pi to 2 decimal places is: 3.1416\n"
     ]
    }
   ],
   "source": [
    "pi = 3.141592653589793\n",
    "print(f\"The value of pi to 2 decimal places is: {pi:.2f}\")\n",
    "print(f\"The value of pi to 2 decimal places is: {pi:.3f}\")\n",
    "print(f\"The value of pi to 2 decimal places is: {pi:.4f}\")"
   ]
  },
  {
   "cell_type": "markdown",
   "id": "eaf97f0a",
   "metadata": {},
   "source": [
    "### Task 4"
   ]
  },
  {
   "cell_type": "code",
   "execution_count": 11,
   "id": "e57632b1",
   "metadata": {},
   "outputs": [
    {
     "name": "stdout",
     "output_type": "stream",
     "text": [
      "Apple      $ 0.99\n",
      "Banana     $ 0.59\n",
      "Orange     $ 1.29\n"
     ]
    }
   ],
   "source": [
    "fruits = {\n",
    "    \"Apple\": 0.99,\n",
    "    \"Banana\": 0.59,\n",
    "    \"Orange\": 1.29\n",
    "}\n",
    "\n",
    "for fruit in fruits:\n",
    "    print(f\"{fruit:10} $ {fruits[fruit]}\")\n",
    "\n",
    "#print(\"********** $*****\")"
   ]
  },
  {
   "cell_type": "markdown",
   "id": "6cd28c39",
   "metadata": {},
   "source": [
    "# Exercise 2 (What is your grade?)"
   ]
  },
  {
   "cell_type": "code",
   "execution_count": 3,
   "id": "7958a32b",
   "metadata": {},
   "outputs": [
    {
     "name": "stdout",
     "output_type": "stream",
     "text": [
      "Enter the student's score: 100\n",
      "The student's letter grade is: A\n"
     ]
    }
   ],
   "source": [
    "score = input(\"Enter the student's score: \")\n",
    "print(f\"Enter the student's score: {score}\")\n",
    "\n",
    "try:\n",
    "    score = float(score)\n",
    "    if score<0 or score>100:\n",
    "        print(\"The score must be within the range 0-100!\")\n",
    "    score = int(score)\n",
    "    if 70<=score<=100:\n",
    "        print(\"The student's letter grade is: A\")\n",
    "    elif 50<=score<70:\n",
    "        print(\"The student's letter grade is: B\")\n",
    "    elif 35<=score<50:\n",
    "        print(\"The student's letter grade is: C\")\n",
    "    elif 0<=score<35:\n",
    "        print(\"The student's grade is: Fail\")\n",
    "except ValueError:\n",
    "    print(\"The score must be numerical!\")"
   ]
  },
  {
   "cell_type": "markdown",
   "id": "acd109fd",
   "metadata": {},
   "source": [
    "# Exercise 3 (Debugging Code)"
   ]
  },
  {
   "cell_type": "code",
   "execution_count": 18,
   "id": "88dcc24c",
   "metadata": {},
   "outputs": [
    {
     "name": "stdout",
     "output_type": "stream",
     "text": [
      "120\n",
      "Invalid input\n"
     ]
    }
   ],
   "source": [
    "def factorial(n):\n",
    "    if n > 0:\n",
    "        result = 1\n",
    "        for number in range(1, n+1):\n",
    "            result *= number\n",
    "        return result\n",
    "    elif n == 0:\n",
    "        return 1\n",
    "    else:\n",
    "        return \"Invalid input\"\n",
    "\n",
    "\n",
    "print(factorial(5))   # Testing, expected output: 120\n",
    "print(factorial(-1))  # Testing, expected output: Invalid input"
   ]
  },
  {
   "cell_type": "code",
   "execution_count": null,
   "id": "de41fba2",
   "metadata": {},
   "outputs": [
    {
     "name": "stdout",
     "output_type": "stream",
     "text": [
      "120\n",
      "Invalid input\n"
     ]
    }
   ],
   "source": [
    "# As an optional bonus question (with no marks attached), how could you make this code even faster? (HINT: can you reduce the number of iterations of the for loop?)\n",
    "# I had to ask someone :')\n",
    "\n",
    "def fast_factorial(n):\n",
    "    if n < 0:\n",
    "        return \"Invalid input\"\n",
    "    elif n == 0 or n == 1:\n",
    "        return 1\n",
    "    \n",
    "    result = 1\n",
    "    for i in range(1, n//2 + 1):\n",
    "        result *= i * (n - i + 1)\n",
    "    \n",
    "    if n % 2 == 1:\n",
    "        result *= (n//2 + 1)\n",
    "    \n",
    "    return result\n",
    "\n",
    "print(fast_factorial(5))   # Testing, expected output: 120\n",
    "print(fast_factorial(-1))  # Testing, expected output: Invalid input"
   ]
  }
 ],
 "metadata": {
  "kernelspec": {
   "display_name": "base",
   "language": "python",
   "name": "python3"
  },
  "language_info": {
   "codemirror_mode": {
    "name": "ipython",
    "version": 3
   },
   "file_extension": ".py",
   "mimetype": "text/x-python",
   "name": "python",
   "nbconvert_exporter": "python",
   "pygments_lexer": "ipython3",
   "version": "3.13.5"
  },
  "toc": {
   "base_numbering": 1,
   "nav_menu": {},
   "number_sections": true,
   "sideBar": true,
   "skip_h1_title": false,
   "title_cell": "Table of Contents",
   "title_sidebar": "Contents",
   "toc_cell": false,
   "toc_position": {},
   "toc_section_display": true,
   "toc_window_display": false
  }
 },
 "nbformat": 4,
 "nbformat_minor": 5
}
