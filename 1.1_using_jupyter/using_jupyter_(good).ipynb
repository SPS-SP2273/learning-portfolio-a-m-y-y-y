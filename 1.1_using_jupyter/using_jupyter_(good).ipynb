{
 "cells": [
  {
   "attachments": {},
   "cell_type": "markdown",
   "id": "123456",
   "metadata": {},
   "source": [
    "<div style=\"text-align:left;font-size:2em\"><span style=\"font-weight:bolder;font-size:1.25em\">SP2273 | Learning Portfolio</span><br><br><span style=\"font-weight:bold;color:darkred\">Using Jupyter (Good)</span></div>"
   ]
  },
  {
   "attachments": {},
   "cell_type": "markdown",
   "id": "123456",
   "metadata": {},
   "source": [
    "# What to expect in this chapter"
   ]
  },
  {
   "attachments": {},
   "cell_type": "markdown",
   "id": "123456",
   "metadata": {},
   "source": [
    "# 1 Some tips and tricks"
   ]
  },
  {
   "attachments": {},
   "cell_type": "markdown",
   "id": "123456",
   "metadata": {},
   "source": [
    "## 1.1 Keyboard Shortcuts"
   ]
  },
  {
   "attachments": {},
   "cell_type": "markdown",
   "id": "123456",
   "metadata": {},
   "source": [
    "### Things to note"
   ]
  },
  {
   "cell_type": "code",
   "execution_count": null,
   "id": "123456",
   "metadata": {},
   "outputs": [],
   "source": [
    "\n",
    "# Your code here\n"
   ]
  },
  {
   "attachments": {},
   "cell_type": "markdown",
   "id": "123456",
   "metadata": {},
   "source": [
    "## 1.2 Shell commands"
   ]
  },
  {
   "cell_type": "code",
   "execution_count": 4,
   "id": "2b40a677",
   "metadata": {},
   "outputs": [
    {
     "name": "stderr",
     "output_type": "stream",
     "text": [
      "The system cannot find the path specified.\n"
     ]
    }
   ],
   "source": [
    "!cd    # print the current working directory"
   ]
  },
  {
   "cell_type": "code",
   "execution_count": 3,
   "id": "dfa03251",
   "metadata": {},
   "outputs": [
    {
     "name": "stdout",
     "output_type": "stream",
     "text": [
      " Volume in drive C is Windows\n",
      " Volume Serial Number is 7AF7-3F86\n",
      "\n",
      " Directory of c:\\Users\\Li Hauyu Amy\\Desktop\\learning-portfolio-a-m-y-y-y\\1.1_using_jupyter\n",
      "\n",
      "\n",
      " Directory of c:\\Users\\Li Hauyu Amy\\Desktop\\learning-portfolio-a-m-y-y-y\\1.1_using_jupyter\n",
      "\n",
      "\n",
      " Directory of c:\\Users\\Li Hauyu Amy\\Desktop\\learning-portfolio-a-m-y-y-y\\1.1_using_jupyter\n",
      "\n",
      "\n",
      " Directory of c:\\Users\\Li Hauyu Amy\\Desktop\\learning-portfolio-a-m-y-y-y\\1.1_using_jupyter\n",
      "\n",
      "\n",
      " Directory of c:\\Users\\Li Hauyu Amy\\Desktop\\learning-portfolio-a-m-y-y-y\\1.1_using_jupyter\n",
      "\n",
      "\n",
      " Directory of c:\\Users\\Li Hauyu Amy\\Desktop\\learning-portfolio-a-m-y-y-y\\1.1_using_jupyter\n",
      "\n",
      "\n",
      " Directory of c:\\Users\\Li Hauyu Amy\\Desktop\\learning-portfolio-a-m-y-y-y\\1.1_using_jupyter\n",
      "\n",
      "\n",
      " Directory of c:\\Users\\Li Hauyu Amy\\Desktop\\learning-portfolio-a-m-y-y-y\\1.1_using_jupyter\n",
      "\n",
      "\n",
      " Directory of c:\\Users\\Li Hauyu Amy\\Desktop\\learning-portfolio-a-m-y-y-y\\1.1_using_jupyter\n",
      "\n"
     ]
    },
    {
     "name": "stderr",
     "output_type": "stream",
     "text": [
      "File Not Found\n"
     ]
    }
   ],
   "source": [
    "!dir   # list of all the files in your folder"
   ]
  },
  {
   "attachments": {},
   "cell_type": "markdown",
   "id": "123456",
   "metadata": {},
   "source": [
    "# 2 Install Notebook 7"
   ]
  },
  {
   "attachments": {},
   "cell_type": "markdown",
   "id": "123456",
   "metadata": {},
   "source": [
    "# Jupyter Extensions"
   ]
  },
  {
   "attachments": {},
   "cell_type": "markdown",
   "id": "123456",
   "metadata": {},
   "source": [
    "## Installing the extensions"
   ]
  },
  {
   "attachments": {},
   "cell_type": "markdown",
   "id": "123456",
   "metadata": {},
   "source": [
    "## Enabling the extensions"
   ]
  },
  {
   "attachments": {},
   "cell_type": "markdown",
   "id": "123456",
   "metadata": {},
   "source": [
    "# 3 Shell Magic"
   ]
  },
  {
   "attachments": {},
   "cell_type": "markdown",
   "id": "123456",
   "metadata": {},
   "source": [
    "# 4 The Kernel"
   ]
  }
 ],
 "metadata": {
  "kernelspec": {
   "display_name": "base",
   "language": "python",
   "name": "python3"
  },
  "language_info": {
   "codemirror_mode": {
    "name": "ipython",
    "version": 3
   },
   "file_extension": ".py",
   "mimetype": "text/x-python",
   "name": "python",
   "nbconvert_exporter": "python",
   "pygments_lexer": "ipython3",
   "version": "3.13.5"
  },
  "toc": {
   "base_numbering": 1,
   "nav_menu": {},
   "number_sections": true,
   "sideBar": true,
   "skip_h1_title": false,
   "title_cell": "Table of Contents",
   "title_sidebar": "Contents",
   "toc_cell": false,
   "toc_position": {},
   "toc_section_display": true,
   "toc_window_display": false
  }
 },
 "nbformat": 4,
 "nbformat_minor": 5
}
