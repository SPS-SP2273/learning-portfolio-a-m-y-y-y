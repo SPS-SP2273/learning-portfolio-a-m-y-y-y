{
 "cells": [
  {
   "attachments": {},
   "cell_type": "markdown",
   "id": "123456",
   "metadata": {},
   "source": [
    "<div style=\"text-align:left;font-size:2em\"><span style=\"font-weight:bolder;font-size:1.25em\">SP2273 | Learning Portfolio</span><br><br><span style=\"font-weight:bold;color:darkred\">Functions (Need)</span></div>"
   ]
  },
  {
   "attachments": {},
   "cell_type": "markdown",
   "id": "123456",
   "metadata": {},
   "source": [
    "# What to expect in this chapter"
   ]
  },
  {
   "attachments": {},
   "cell_type": "markdown",
   "id": "123456",
   "metadata": {},
   "source": [
    "# 1 User-defined functions"
   ]
  },
  {
   "attachments": {},
   "cell_type": "markdown",
   "id": "123456",
   "metadata": {},
   "source": [
    "## 1.1 Named Functions"
   ]
  },
  {
   "attachments": {},
   "cell_type": "markdown",
   "id": "123456",
   "metadata": {},
   "source": [
    "### Named functions that return"
   ]
  },
  {
   "cell_type": "code",
   "execution_count": null,
   "id": "62f3648c",
   "metadata": {},
   "outputs": [
    {
     "data": {
      "text/plain": [
       "'Hello amy! u are the owner of this notebook :)'"
      ]
     },
     "execution_count": 3,
     "metadata": {},
     "output_type": "execute_result"
    }
   ],
   "source": [
    "def greeting(name):\n",
    "    if name == \"amy\":\n",
    "        return \"Hello amy! u are the owner of this notebook :)\"\n",
    "    else:\n",
    "        return f\"Hello {name} who r u go away :(\"\n",
    "# when python sees a return keyword, it jumps out of the function with the return value.\n",
    "# we can only use return in a function.\n",
    "\n",
    "greeting(\"amy\")\n",
    "# The function name is greeting. The function accepts a single argument called name.\n",
    "# OR greeting(name=\"amy\")"
   ]
  },
  {
   "cell_type": "code",
   "execution_count": null,
   "id": "ca3a660b",
   "metadata": {},
   "outputs": [
    {
     "name": "stdout",
     "output_type": "stream",
     "text": [
      "Hello amy! u are the owner of this notebook :)\n"
     ]
    }
   ],
   "source": [
    "greet=greeting(name=\"amy\")\n",
    "print(greet)"
   ]
  },
  {
   "cell_type": "code",
   "execution_count": 6,
   "id": "2cd4803d",
   "metadata": {},
   "outputs": [
    {
     "name": "stdout",
     "output_type": "stream",
     "text": [
      "Hello amy! u are the owner of this notebook :)\n"
     ]
    }
   ],
   "source": [
    "print(greeting(name=\"amy\"))"
   ]
  },
  {
   "cell_type": "code",
   "execution_count": 9,
   "id": "123456",
   "metadata": {},
   "outputs": [
    {
     "name": "stdout",
     "output_type": "stream",
     "text": [
      "5\n",
      "1\n",
      "3.0\n"
     ]
    }
   ],
   "source": [
    "import numpy as np\n",
    "def basic_stats(numbers):\n",
    "    np_numbers = np.array(numbers)\n",
    "    my_min = np_numbers.min()\n",
    "    my_max = np_numbers.max()\n",
    "    my_mean = np_numbers.mean()\n",
    "    return my_max, my_min, my_mean\n",
    "\n",
    "list_min, list_max, list_mean = basic_stats([1, 2, 3, 4, 5])\n",
    "print(list_min)\n",
    "print(list_max)\n",
    "print(list_mean)"
   ]
  },
  {
   "attachments": {},
   "cell_type": "markdown",
   "id": "123456",
   "metadata": {},
   "source": [
    "### Named functions that don’t return"
   ]
  },
  {
   "cell_type": "code",
   "execution_count": 10,
   "id": "123456",
   "metadata": {},
   "outputs": [],
   "source": [
    "# a function does not HAVE to return something. e.g. print()"
   ]
  },
  {
   "attachments": {},
   "cell_type": "markdown",
   "id": "123456",
   "metadata": {},
   "source": [
    "## 1.2 Anonymous functions"
   ]
  },
  {
   "cell_type": "code",
   "execution_count": 13,
   "id": "32f65775",
   "metadata": {},
   "outputs": [
    {
     "data": {
      "text/plain": [
       "'Hello amy!'"
      ]
     },
     "execution_count": 13,
     "metadata": {},
     "output_type": "execute_result"
    }
   ],
   "source": [
    "# aka lambda functions\n",
    "# this function accepts a single argument called name\n",
    "my_short_function = lambda name: f\"Hello {name}!\"\n",
    "my_short_function(name=\"amy\")\n",
    "# a lambda function always returns the value of the last statement"
   ]
  },
  {
   "cell_type": "code",
   "execution_count": 14,
   "id": "0a3eb83f",
   "metadata": {},
   "outputs": [],
   "source": [
    "# a REALLY anonymous example (sorting this 2D list)\n",
    "numbers=[[9, 0, -10],\n",
    "        [8, 1, -11],\n",
    "        [7, 2, -12],\n",
    "        [6, 3, -13],\n",
    "        [5, 4, -14],\n",
    "        [4, 5, -15],\n",
    "        [3, 6, -16],\n",
    "        [2, 7, -17],\n",
    "        [1, 8, -18],\n",
    "        [0, 9, -19]]"
   ]
  },
  {
   "cell_type": "code",
   "execution_count": 15,
   "id": "0cb4b43a",
   "metadata": {},
   "outputs": [
    {
     "data": {
      "text/plain": [
       "[[0, 9, -19],\n",
       " [1, 8, -18],\n",
       " [2, 7, -17],\n",
       " [3, 6, -16],\n",
       " [4, 5, -15],\n",
       " [5, 4, -14],\n",
       " [6, 3, -13],\n",
       " [7, 2, -12],\n",
       " [8, 1, -11],\n",
       " [9, 0, -10]]"
      ]
     },
     "execution_count": 15,
     "metadata": {},
     "output_type": "execute_result"
    }
   ],
   "source": [
    "# 1) Sort by comparing the default key (i.e. the 1st element)\n",
    "sorted(numbers)"
   ]
  },
  {
   "cell_type": "code",
   "execution_count": null,
   "id": "f64a3a53",
   "metadata": {},
   "outputs": [
    {
     "data": {
      "text/plain": [
       "[[9, 0, -10],\n",
       " [8, 1, -11],\n",
       " [7, 2, -12],\n",
       " [6, 3, -13],\n",
       " [5, 4, -14],\n",
       " [4, 5, -15],\n",
       " [3, 6, -16],\n",
       " [2, 7, -17],\n",
       " [1, 8, -18],\n",
       " [0, 9, -19]]"
      ]
     },
     "execution_count": 16,
     "metadata": {},
     "output_type": "execute_result"
    }
   ],
   "source": [
    "# 2) Sort by comparing a custom key that uses the 2nd element (index=1)\n",
    "sorted(numbers, key=lambda x: x[1])"
   ]
  },
  {
   "cell_type": "code",
   "execution_count": 17,
   "id": "47121869",
   "metadata": {},
   "outputs": [
    {
     "data": {
      "text/plain": [
       "[[0, 9, -19],\n",
       " [1, 8, -18],\n",
       " [2, 7, -17],\n",
       " [3, 6, -16],\n",
       " [4, 5, -15],\n",
       " [5, 4, -14],\n",
       " [6, 3, -13],\n",
       " [7, 2, -12],\n",
       " [8, 1, -11],\n",
       " [9, 0, -10]]"
      ]
     },
     "execution_count": 17,
     "metadata": {},
     "output_type": "execute_result"
    }
   ],
   "source": [
    "# 3) Sort by comparing a custom key that uses the sum of the elements\n",
    "sorted(numbers, key=lambda x: sum(x))"
   ]
  },
  {
   "attachments": {},
   "cell_type": "markdown",
   "id": "123456",
   "metadata": {},
   "source": [
    "## 1.3 Optional arguments"
   ]
  },
  {
   "cell_type": "code",
   "execution_count": 19,
   "id": "97290a44",
   "metadata": {},
   "outputs": [
    {
     "data": {
      "text/plain": [
       "'Hello no one!'"
      ]
     },
     "execution_count": 19,
     "metadata": {},
     "output_type": "execute_result"
    }
   ],
   "source": [
    "# arguments are optional in python.\n",
    "# we just need to give the argument a default value so that the function always has something to work with.\n",
    "def greeting(name=\"no one\"):\n",
    "    if name == \"amy\":\n",
    "        return \"Hello amy! So, nice to meet you!\"\n",
    "    else:\n",
    "        return f\"Hello {name}!\"\n",
    "greeting()"
   ]
  },
  {
   "cell_type": "code",
   "execution_count": 20,
   "id": "bbe1343d",
   "metadata": {},
   "outputs": [
    {
     "name": "stdout",
     "output_type": "stream",
     "text": [
      "\u001b[31mSignature:\u001b[39m print(*args, sep=\u001b[33m' '\u001b[39m, end=\u001b[33m'\\n'\u001b[39m, file=\u001b[38;5;28;01mNone\u001b[39;00m, flush=\u001b[38;5;28;01mFalse\u001b[39;00m)\n",
      "\u001b[31mDocstring:\u001b[39m\n",
      "Prints the values to a stream, or to sys.stdout by default.\n",
      "\n",
      "sep\n",
      "  string inserted between values, default a space.\n",
      "end\n",
      "  string appended after the last value, default a newline.\n",
      "file\n",
      "  a file-like object (stream); defaults to the current sys.stdout.\n",
      "flush\n",
      "  whether to forcibly flush the stream.\n",
      "\u001b[31mType:\u001b[39m      builtin_function_or_method"
     ]
    }
   ],
   "source": [
    "?print\n",
    "# print() can accept other arguments that are optional with default values.\n",
    "# however, we can specify them if we like."
   ]
  },
  {
   "cell_type": "code",
   "execution_count": 21,
   "id": "68a81892",
   "metadata": {},
   "outputs": [
    {
     "name": "stdout",
     "output_type": "stream",
     "text": [
      "I am Batman!\n",
      "I---am---Batman!\n"
     ]
    }
   ],
   "source": [
    "# Using default values\n",
    "print('I', 'am', 'Batman!')\n",
    "# Specifying an optional argument\n",
    "print('I', 'am', 'Batman!', sep='---')"
   ]
  },
  {
   "attachments": {},
   "cell_type": "markdown",
   "id": "123456",
   "metadata": {},
   "source": [
    "## 1.4 The importance of functions?"
   ]
  },
  {
   "attachments": {},
   "cell_type": "markdown",
   "id": "123456",
   "metadata": {},
   "source": [
    "### An argument for functions"
   ]
  },
  {
   "cell_type": "markdown",
   "id": "123456",
   "metadata": {},
   "source": [
    "Abstraction of details: we can break up a complicated solution into modular chunks. This \"hiding\" of unnecessary info is called \"abstraction\" in Python.\n",
    "</br></br>\n",
    "Reusability of code: more straightforward to reuse the code, shorter and more compact code.\n",
    "</br></br>\n",
    "Maintainability of code: we only need to make changes at the function definition."
   ]
  },
  {
   "attachments": {},
   "cell_type": "markdown",
   "id": "123456",
   "metadata": {},
   "source": [
    "### A word of caution"
   ]
  },
  {
   "cell_type": "markdown",
   "id": "123456",
   "metadata": {},
   "source": [
    "Try to avoid the misuse and overuse of functions."
   ]
  }
 ],
 "metadata": {
  "kernelspec": {
   "display_name": "base",
   "language": "python",
   "name": "python3"
  },
  "language_info": {
   "codemirror_mode": {
    "name": "ipython",
    "version": 3
   },
   "file_extension": ".py",
   "mimetype": "text/x-python",
   "name": "python",
   "nbconvert_exporter": "python",
   "pygments_lexer": "ipython3",
   "version": "3.13.5"
  },
  "toc": {
   "base_numbering": 1,
   "nav_menu": {},
   "number_sections": true,
   "sideBar": true,
   "skip_h1_title": false,
   "title_cell": "Table of Contents",
   "title_sidebar": "Contents",
   "toc_cell": false,
   "toc_position": {},
   "toc_section_display": true,
   "toc_window_display": false
  }
 },
 "nbformat": 4,
 "nbformat_minor": 5
}
