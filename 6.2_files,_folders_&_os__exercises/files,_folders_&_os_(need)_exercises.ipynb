{
 "cells": [
  {
   "attachments": {},
   "cell_type": "markdown",
   "id": "123456",
   "metadata": {},
   "source": [
    "<div style=\"text-align:left;font-size:2em\"><span style=\"font-weight:bolder;font-size:1.25em\">SP2273 | Learning Portfolio</span><br><br><span style=\"font-weight:bold;color:darkred\">Files, Folders & OS (Need) Exercises</span></div>"
   ]
  },
  {
   "cell_type": "markdown",
   "id": "880f4261",
   "metadata": {},
   "source": [
    "## Exercise 1 (Tidying a collaboration)"
   ]
  },
  {
   "cell_type": "markdown",
   "id": "bb02ab93",
   "metadata": {},
   "source": [
    "### Task 1"
   ]
  },
  {
   "cell_type": "code",
   "execution_count": 4,
   "id": "945c591f",
   "metadata": {},
   "outputs": [
    {
     "name": "stdout",
     "output_type": "stream",
     "text": [
      "10-08-singapore.txt\n"
     ]
    }
   ],
   "source": [
    "month_map = {\n",
    "'jan': '01', 'feb': '02', 'mar': '03',\n",
    "'apr': '04', 'may': '05', 'jun': '06',\n",
    "'jul': '07', 'aug': '08', 'sep': '09',\n",
    "'oct': '10', 'nov': '11', 'dec': '12'\n",
    "}\n",
    "\n",
    "filename = \"oct-08_singapore.txt\"\n",
    "month, rest = filename.split(\"-\", 1)\n",
    "rest2 = rest.replace(\"_\", \"-\")\n",
    "filename_new = f\"{month_map[month]}-{rest2}\"\n",
    "\n",
    "print(filename_new)"
   ]
  },
  {
   "cell_type": "markdown",
   "id": "dbbdefbe",
   "metadata": {},
   "source": [
    "### Task 2"
   ]
  },
  {
   "cell_type": "code",
   "execution_count": 6,
   "id": "96fd5c24",
   "metadata": {},
   "outputs": [
    {
     "data": {
      "text/plain": [
       "'10-08-singapore.txt'"
      ]
     },
     "execution_count": 6,
     "metadata": {},
     "output_type": "execute_result"
    }
   ],
   "source": [
    "def rename_my_file(old_file_name):\n",
    "    month, rest = old_file_name.split(\"-\", 1)\n",
    "    rest2 = rest.replace(\"_\", \"-\")\n",
    "    new_file_name = f\"{month_map[month]}-{rest2}\"\n",
    "    return new_file_name\n",
    "\n",
    "rename_my_file(\"oct-08_singapore.txt\")"
   ]
  },
  {
   "cell_type": "markdown",
   "id": "f607d78d",
   "metadata": {},
   "source": [
    "### Task 3"
   ]
  },
  {
   "cell_type": "code",
   "execution_count": 7,
   "id": "b3fbd6f4",
   "metadata": {},
   "outputs": [
    {
     "name": "stdout",
     "output_type": "stream",
     "text": [
      "oct-08_singapore.txt ----> 10-08-singapore.txt\n",
      "jul-10_cairo.txt ----> 07-10-cairo.txt\n",
      "may-15_dhaka.txt ----> 05-15-dhaka.txt\n",
      "may-13_cairo.txt ----> 05-13-cairo.txt\n",
      "oct-21_cairo.txt ----> 10-21-cairo.txt\n",
      "jan-10_singapore.txt ----> 01-10-singapore.txt\n",
      "jun-20_tokyo.txt ----> 06-20-tokyo.txt\n",
      "aug-06_jakarta.txt ----> 08-06-jakarta.txt\n",
      "dec-21_karachi.txt ----> 12-21-karachi.txt\n",
      "jan-01_tokyo.txt ----> 01-01-tokyo.txt\n"
     ]
    }
   ],
   "source": [
    "file_list = ['oct-08_singapore.txt', 'jul-10_cairo.txt', 'may-15_dhaka.txt',\n",
    " 'may-13_cairo.txt', 'oct-21_cairo.txt', 'jan-10_singapore.txt',\n",
    " 'jun-20_tokyo.txt', 'aug-06_jakarta.txt', 'dec-21_karachi.txt',\n",
    " 'jan-01_tokyo.txt']\n",
    "\n",
    "for file in file_list:\n",
    "    new_file_name = rename_my_file(file)\n",
    "    print(f\"{file} ----> {new_file_name}\")"
   ]
  },
  {
   "cell_type": "markdown",
   "id": "d465054c",
   "metadata": {},
   "source": [
    "### Task 4"
   ]
  },
  {
   "cell_type": "code",
   "execution_count": 14,
   "id": "394fe73c",
   "metadata": {},
   "outputs": [],
   "source": [
    "import glob\n",
    "import os\n",
    "\n",
    "def rename_my_file_2(old_file_name):\n",
    "    try:\n",
    "        month, rest = old_file_name.split(\"-\", 1)\n",
    "        rest2 = rest.replace(\"_\", \"-\")\n",
    "        new_file_name = f\"{month_map[month]}-{rest2}\"\n",
    "        return new_file_name\n",
    "    except (ValueError, KeyError):\n",
    "        return None\n",
    "\n",
    "folder_path = \"C:/Users/Li Hauyu Amy/Desktop/learning-portfolio-a-m-y-y-y/6.2_files,_folders_&_os__exercises/os-collaboration-exercise-data/os-collaboration-exercise-data\"\n",
    "txt_files = glob.glob(os.path.join(folder_path, \"*.txt\"))\n",
    "\n",
    "for old_path in txt_files:\n",
    "    old_file_name = os.path.basename(old_path)\n",
    "    new_file_name = rename_my_file_2(old_file_name)\n",
    "    if new_file_name is None:\n",
    "        continue\n",
    "    new_path = os.path.join(folder_path, new_file_name)\n",
    "    os.rename(old_path, new_path)"
   ]
  },
  {
   "cell_type": "markdown",
   "id": "891a4591",
   "metadata": {},
   "source": [
    "### Task 5"
   ]
  },
  {
   "cell_type": "code",
   "execution_count": 15,
   "id": "8305fd8d",
   "metadata": {},
   "outputs": [],
   "source": [
    "cities = ['Cairo', 'Dhaka', 'Jakarta', 'Karachi', 'Manila',\n",
    "        'Melbourne', 'Osaka', 'Shanghai', 'Singapore', 'Tokyo']\n",
    "for city in cities:\n",
    "    city_folder_path = os.path.join(folder_path, city)\n",
    "    os.makedirs(city_folder_path, exist_ok=True)"
   ]
  },
  {
   "cell_type": "markdown",
   "id": "8aec97f2",
   "metadata": {},
   "source": [
    "### Task 6"
   ]
  },
  {
   "cell_type": "code",
   "execution_count": 19,
   "id": "53908497",
   "metadata": {},
   "outputs": [],
   "source": [
    "import shutil\n",
    "cairo_folder = os.path.join(folder_path, \"Cairo\")\n",
    "cairo_files = glob.glob(os.path.join(folder_path, \"*cairo*.txt\"))\n",
    "\n",
    "for old_path in cairo_files:\n",
    "    file_name = os.path.basename(old_path)\n",
    "    new_path = os.path.join(cairo_folder, file_name)\n",
    "    shutil.copy(old_path, new_path)"
   ]
  },
  {
   "cell_type": "markdown",
   "id": "81b106a9",
   "metadata": {},
   "source": [
    "### Task 7"
   ]
  },
  {
   "cell_type": "code",
   "execution_count": 20,
   "id": "8c0e0685",
   "metadata": {},
   "outputs": [],
   "source": [
    "for city in cities:\n",
    "    city_folder = os.path.join(folder_path, city)\n",
    "    city_files = glob.glob(os.path.join(folder_path, f\"*{city.lower()}*.txt\"))\n",
    "    for file_path in city_files:\n",
    "        file_name = os.path.basename(file_path)\n",
    "        move_to_path = os.path.join(city_folder, file_name)\n",
    "        shutil.move(file_path, move_to_path)"
   ]
  }
 ],
 "metadata": {
  "kernelspec": {
   "display_name": "base",
   "language": "python",
   "name": "python3"
  },
  "language_info": {
   "codemirror_mode": {
    "name": "ipython",
    "version": 3
   },
   "file_extension": ".py",
   "mimetype": "text/x-python",
   "name": "python",
   "nbconvert_exporter": "python",
   "pygments_lexer": "ipython3",
   "version": "3.13.5"
  },
  "toc": {
   "base_numbering": 1,
   "nav_menu": {},
   "number_sections": true,
   "sideBar": true,
   "skip_h1_title": false,
   "title_cell": "Table of Contents",
   "title_sidebar": "Contents",
   "toc_cell": false,
   "toc_position": {},
   "toc_section_display": true,
   "toc_window_display": false
  }
 },
 "nbformat": 4,
 "nbformat_minor": 5
}
