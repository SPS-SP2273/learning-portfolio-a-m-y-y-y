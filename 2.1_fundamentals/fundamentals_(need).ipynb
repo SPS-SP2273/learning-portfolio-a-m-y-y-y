{
 "cells": [
  {
   "attachments": {},
   "cell_type": "markdown",
   "id": "123456",
   "metadata": {},
   "source": [
    "<div style=\"text-align:left;font-size:2em\"><span style=\"font-weight:bolder;font-size:1.25em\">SP2273 | Learning Portfolio</span><br><br><span style=\"font-weight:bold;color:darkred\">Fundamentals (Need)</span></div>"
   ]
  },
  {
   "attachments": {},
   "cell_type": "markdown",
   "id": "a28913c1",
   "metadata": {},
   "source": [
    "# What to expect in this chapter"
   ]
  },
  {
   "attachments": {},
   "cell_type": "markdown",
   "id": "9a745d89",
   "metadata": {},
   "source": [
    "# 1 Functions"
   ]
  },
  {
   "cell_type": "code",
   "execution_count": 2,
   "id": "293dbd24-9afe-44d9-980b-d10404125082",
   "metadata": {},
   "outputs": [
    {
     "name": "stdout",
     "output_type": "stream",
     "text": [
      "Hello world!\n"
     ]
    }
   ],
   "source": [
    "print(\"Hello world!\")\n",
    "#print() is an in-built function. parenthesis always follow a function"
   ]
  },
  {
   "attachments": {},
   "cell_type": "markdown",
   "id": "2541d620",
   "metadata": {},
   "source": [
    "# 2 Python is interpreted"
   ]
  },
  {
   "cell_type": "code",
   "execution_count": 3,
   "id": "c74808e0-d40a-4129-8ca7-05535cca9681",
   "metadata": {},
   "outputs": [
    {
     "name": "stdout",
     "output_type": "stream",
     "text": [
      "Hello World\n",
      "Hello World again\n"
     ]
    }
   ],
   "source": [
    "print('Hello World')\n",
    "print('Hello World again')"
   ]
  },
  {
   "attachments": {},
   "cell_type": "markdown",
   "id": "54969a18",
   "metadata": {},
   "source": [
    "# 3 Python is sensitive."
   ]
  },
  {
   "cell_type": "code",
   "execution_count": 7,
   "id": "1d349e45-b11e-4aee-a504-febefdbe800d",
   "metadata": {},
   "outputs": [
    {
     "name": "stdout",
     "output_type": "stream",
     "text": [
      "Hello World\n"
     ]
    }
   ],
   "source": [
    "print('Hello World')\n",
    "# Print('Hello World') doesn't work"
   ]
  },
  {
   "attachments": {},
   "cell_type": "markdown",
   "id": "424716f1",
   "metadata": {},
   "source": [
    "# 4 Comments"
   ]
  },
  {
   "cell_type": "code",
   "execution_count": 8,
   "id": "87791759-8cfa-4821-8904-0c9012f0707b",
   "metadata": {},
   "outputs": [],
   "source": [
    "#comment\n",
    "\n",
    "#########\n",
    "#comment#\n",
    "#########"
   ]
  },
  {
   "attachments": {},
   "cell_type": "markdown",
   "id": "4d0c3bea",
   "metadata": {},
   "source": [
    "# 5 = is not the same as =="
   ]
  },
  {
   "cell_type": "code",
   "execution_count": 12,
   "id": "d3ae281a-7610-4c2e-b744-3018e50314b3",
   "metadata": {},
   "outputs": [
    {
     "data": {
      "text/plain": [
       "True"
      ]
     },
     "execution_count": 12,
     "metadata": {},
     "output_type": "execute_result"
    }
   ],
   "source": [
    "name = \"Batman\" # assigns 'Batman' to name\n",
    "name == \"Batman\" # asking a question (whether name is 'Batman') answer is True or False"
   ]
  },
  {
   "attachments": {},
   "cell_type": "markdown",
   "id": "7952e289",
   "metadata": {},
   "source": [
    "# 6 Use if to make decisions"
   ]
  },
  {
   "cell_type": "code",
   "execution_count": 14,
   "id": "952b3f48-3b1b-4a64-bc9d-ba0f953893e5",
   "metadata": {},
   "outputs": [
    {
     "name": "stdin",
     "output_type": "stream",
     "text": [
      "1+2 = 3\n"
     ]
    },
    {
     "name": "stdout",
     "output_type": "stream",
     "text": [
      "1+2 is indeed 3\n"
     ]
    }
   ],
   "source": [
    "n = input(\"1+2 =\")\n",
    "if n==\"3\":\n",
    "    print(\"1+2 is indeed 3\")\n",
    "else:\n",
    "    print(\"wrong\")"
   ]
  },
  {
   "attachments": {},
   "cell_type": "markdown",
   "id": "b8350e35",
   "metadata": {},
   "source": [
    "# 7 Indentations (spaces) are sooo IMPORTANT!"
   ]
  },
  {
   "cell_type": "code",
   "execution_count": 19,
   "id": "73d50cc4-aeb2-4987-a1c4-2d4756e3b49b",
   "metadata": {},
   "outputs": [
    {
     "name": "stdout",
     "output_type": "stream",
     "text": [
      "10\n"
     ]
    }
   ],
   "source": [
    "x = 10\n",
    "print(x)\n",
    "#\"   print(x)\" doesn't work\n",
    "# : designates a block of code"
   ]
  },
  {
   "attachments": {},
   "cell_type": "markdown",
   "id": "1aa63c89",
   "metadata": {},
   "source": [
    "# 8 ‘age’ is English, age is a variable."
   ]
  },
  {
   "cell_type": "code",
   "execution_count": 21,
   "id": "07afb47e-85f8-4c1d-8d1a-627fac6994e2",
   "metadata": {},
   "outputs": [
    {
     "name": "stdout",
     "output_type": "stream",
     "text": [
      "19\n",
      "age\n",
      "You're 19 years old.\n"
     ]
    }
   ],
   "source": [
    "age = 19\n",
    "print(age) #variable\n",
    "print(\"age\") #string\n",
    "\n",
    "print(\"You're 19 years old.\") # \" and '"
   ]
  },
  {
   "attachments": {},
   "cell_type": "markdown",
   "id": "893deb17",
   "metadata": {},
   "source": [
    "# 9 Brackets"
   ]
  },
  {
   "cell_type": "code",
   "execution_count": 26,
   "id": "0eae4024-f3dd-4269-81ef-b8265bced503",
   "metadata": {},
   "outputs": [
    {
     "name": "stdout",
     "output_type": "stream",
     "text": [
      "hello!\n",
      "1\n",
      "A\n"
     ]
    }
   ],
   "source": [
    "print(\"hello!\") #functions\n",
    "(1+2)*5 #math\n",
    "my_lst = [1,2,3,4,5] #1D list\n",
    "my_lst_2 = [\n",
    "                [1, \"A\"],      \n",
    "                [2, \"B\"],\n",
    "                [3, \"C\"],\n",
    "                [4, \"D\"],\n",
    "                [5, \"E\"]\n",
    "            ] #2D list\n",
    "print(my_lst[0])\n",
    "print(my_lst_2[0][1])"
   ]
  },
  {
   "cell_type": "code",
   "execution_count": 27,
   "id": "c775c798-f9c4-48b0-8a95-e422ac3951b6",
   "metadata": {},
   "outputs": [
    {
     "name": "stdout",
     "output_type": "stream",
     "text": [
      "Bruce Wayne\n"
     ]
    }
   ],
   "source": [
    "personal_info = {\n",
    "    'Names': 'Batman',\n",
    "    'Real Name': 'Bruce Wayne',\n",
    "    'Age': 55,\n",
    "    'Affiliation': 'Justice League',\n",
    "    'Universe': 'DC'\n",
    "}\n",
    "\n",
    "print(personal_info['Real Name'])"
   ]
  },
  {
   "attachments": {},
   "cell_type": "markdown",
   "id": "b7a52259",
   "metadata": {},
   "source": [
    "# 10 Giving Python superpowers with Packages"
   ]
  },
  {
   "attachments": {},
   "cell_type": "markdown",
   "id": "8a463e39",
   "metadata": {},
   "source": [
    "## 10.1 Some Context"
   ]
  },
  {
   "attachments": {},
   "cell_type": "markdown",
   "id": "f432e0c8",
   "metadata": {},
   "source": [
    "## 10.2 Importing the math package"
   ]
  },
  {
   "cell_type": "code",
   "execution_count": 54,
   "id": "ab4bd9b6-f82d-4674-b2a0-00a36f5620a0",
   "metadata": {},
   "outputs": [
    {
     "data": {
      "text/plain": [
       "2.0"
      ]
     },
     "execution_count": 54,
     "metadata": {},
     "output_type": "execute_result"
    }
   ],
   "source": [
    "import math\n",
    "math.sqrt(4)"
   ]
  },
  {
   "attachments": {},
   "cell_type": "markdown",
   "id": "a9e1f928",
   "metadata": {},
   "source": [
    "## 10.3 Importing the numpy package"
   ]
  },
  {
   "cell_type": "code",
   "execution_count": 58,
   "id": "1a4b9acd-02d5-42fe-8849-f78176376969",
   "metadata": {},
   "outputs": [
    {
     "name": "stdout",
     "output_type": "stream",
     "text": [
      "2.0\n"
     ]
    },
    {
     "data": {
      "text/plain": [
       "array([2., 3., 4.])"
      ]
     },
     "execution_count": 58,
     "metadata": {},
     "output_type": "execute_result"
    }
   ],
   "source": [
    "import numpy as np\n",
    "# giving numpy an alias np\n",
    "print(np.sqrt(4))\n",
    "\n",
    "np.sqrt([4, 9, 16])"
   ]
  },
  {
   "attachments": {},
   "cell_type": "markdown",
   "id": "96fe6a6a",
   "metadata": {},
   "source": [
    "## 10.4 Why so many packages?"
   ]
  },
  {
   "attachments": {},
   "cell_type": "markdown",
   "id": "67ed5af0",
   "metadata": {},
   "source": [
    "# 11 The dot (.)"
   ]
  },
  {
   "cell_type": "code",
   "execution_count": 63,
   "id": "e07cc2f3-287c-4679-83e1-23028eff8d9b",
   "metadata": {},
   "outputs": [
    {
     "name": "stdout",
     "output_type": "stream",
     "text": [
      "2.0\n"
     ]
    },
    {
     "data": {
      "text/plain": [
       "np.float64(2.0)"
      ]
     },
     "execution_count": 63,
     "metadata": {},
     "output_type": "execute_result"
    }
   ],
   "source": [
    "# the dot \".\" indicates ownership\n",
    "#print(math.sqrt(4))\n",
    "print(np.sqrt(4))\n",
    "np.sqrt(4)"
   ]
  },
  {
   "cell_type": "code",
   "execution_count": 66,
   "id": "97fc0c69-f1b8-474b-a26f-a6a38780982c",
   "metadata": {},
   "outputs": [
    {
     "data": {
      "text/plain": [
       "['I', 'am', 'Batman']"
      ]
     },
     "execution_count": 66,
     "metadata": {},
     "output_type": "execute_result"
    }
   ],
   "source": [
    "\"I am Batman\".split()\n",
    "#1234.split() doesn't work"
   ]
  },
  {
   "attachments": {},
   "cell_type": "markdown",
   "id": "3726d411",
   "metadata": {},
   "source": [
    "## Footnotes"
   ]
  }
 ],
 "metadata": {
  "kernelspec": {
   "display_name": "Python 3 (ipykernel)",
   "language": "python",
   "name": "python3"
  },
  "language_info": {
   "codemirror_mode": {
    "name": "ipython",
    "version": 3
   },
   "file_extension": ".py",
   "mimetype": "text/x-python",
   "name": "python",
   "nbconvert_exporter": "python",
   "pygments_lexer": "ipython3",
   "version": "3.13.5"
  },
  "toc": {
   "base_numbering": 1,
   "nav_menu": {},
   "number_sections": true,
   "sideBar": true,
   "skip_h1_title": false,
   "title_cell": "Table of Contents",
   "title_sidebar": "Contents",
   "toc_cell": false,
   "toc_position": {},
   "toc_section_display": true,
   "toc_window_display": false
  },
  "vscode": {
   "interpreter": {
    "hash": "31f2aee4e71d21fbe5cf8b01ff0e069b9275f58929596ceb00d14d90e3e16cd6"
   }
  }
 },
 "nbformat": 4,
 "nbformat_minor": 5
}
